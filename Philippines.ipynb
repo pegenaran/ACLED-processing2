{
 "cells": [
  {
   "cell_type": "code",
   "execution_count": 19,
   "metadata": {
    "scrolled": true
   },
   "outputs": [
    {
     "name": "stdout",
     "output_type": "stream",
     "text": [
      "There are  31  entries in the list.\n",
      "1: data_id                    8: event_type                 15: inter2                    22: location\n",
      "2: iso                        9: sub_event_type             16: interaction               23: latitude\n",
      "3: event_id_cnty              10: actor1                    17: region                    24: longitude\n",
      "4: event_id_no_cnty           11: assoc_actor_1             18: country                   25: geo_precision\n",
      "5: event_date                 12: inter1                    19: admin1                    26: source\n",
      "6: year                       13: actor2                    20: admin2                    27: source_scale\n",
      "7: time_precision             14: assoc_actor_2             21: admin3                    28: notes\n",
      "29: fatalities                30: timestamp                 31: iso3                      \n",
      "\n",
      "There are  6  entries in the list.\n",
      "1: Battles                                             4: Riots\n",
      "2: Explosions/Remote violence                          5: Strategic developments\n",
      "3: Protests                                            6: Violence against civilians\n",
      "\n"
     ]
    },
    {
     "data": {
      "text/html": [
       "<div>\n",
       "<style scoped>\n",
       "    .dataframe tbody tr th:only-of-type {\n",
       "        vertical-align: middle;\n",
       "    }\n",
       "\n",
       "    .dataframe tbody tr th {\n",
       "        vertical-align: top;\n",
       "    }\n",
       "\n",
       "    .dataframe thead th {\n",
       "        text-align: right;\n",
       "    }\n",
       "</style>\n",
       "<table border=\"1\" class=\"dataframe\">\n",
       "  <thead>\n",
       "    <tr style=\"text-align: right;\">\n",
       "      <th></th>\n",
       "      <th>inter2</th>\n",
       "      <th>event_date</th>\n",
       "      <th>event_type</th>\n",
       "      <th>year</th>\n",
       "      <th>timestamp</th>\n",
       "      <th>admin1</th>\n",
       "    </tr>\n",
       "  </thead>\n",
       "  <tbody>\n",
       "    <tr>\n",
       "      <th>11037</th>\n",
       "      <td>1</td>\n",
       "      <td>04 January 2016</td>\n",
       "      <td>Battles</td>\n",
       "      <td>2016</td>\n",
       "      <td>1589298681</td>\n",
       "      <td>Bangsamoro Autonomous Region in Muslim Mindanao</td>\n",
       "    </tr>\n",
       "    <tr>\n",
       "      <th>11038</th>\n",
       "      <td>0</td>\n",
       "      <td>04 January 2016</td>\n",
       "      <td>Protests</td>\n",
       "      <td>2016</td>\n",
       "      <td>1563887830</td>\n",
       "      <td>National Capital Region</td>\n",
       "    </tr>\n",
       "    <tr>\n",
       "      <th>11039</th>\n",
       "      <td>1</td>\n",
       "      <td>02 January 2016</td>\n",
       "      <td>Battles</td>\n",
       "      <td>2016</td>\n",
       "      <td>1589298664</td>\n",
       "      <td>Bangsamoro Autonomous Region in Muslim Mindanao</td>\n",
       "    </tr>\n",
       "    <tr>\n",
       "      <th>11040</th>\n",
       "      <td>3</td>\n",
       "      <td>02 January 2016</td>\n",
       "      <td>Battles</td>\n",
       "      <td>2016</td>\n",
       "      <td>1589298664</td>\n",
       "      <td>Bangsamoro Autonomous Region in Muslim Mindanao</td>\n",
       "    </tr>\n",
       "    <tr>\n",
       "      <th>11041</th>\n",
       "      <td>1</td>\n",
       "      <td>01 January 2016</td>\n",
       "      <td>Battles</td>\n",
       "      <td>2016</td>\n",
       "      <td>1589298664</td>\n",
       "      <td>Bicol Region</td>\n",
       "    </tr>\n",
       "  </tbody>\n",
       "</table>\n",
       "</div>"
      ],
      "text/plain": [
       "       inter2       event_date event_type  year   timestamp  \\\n",
       "11037       1  04 January 2016    Battles  2016  1589298681   \n",
       "11038       0  04 January 2016   Protests  2016  1563887830   \n",
       "11039       1  02 January 2016    Battles  2016  1589298664   \n",
       "11040       3  02 January 2016    Battles  2016  1589298664   \n",
       "11041       1  01 January 2016    Battles  2016  1589298664   \n",
       "\n",
       "                                                admin1  \n",
       "11037  Bangsamoro Autonomous Region in Muslim Mindanao  \n",
       "11038                          National Capital Region  \n",
       "11039  Bangsamoro Autonomous Region in Muslim Mindanao  \n",
       "11040  Bangsamoro Autonomous Region in Muslim Mindanao  \n",
       "11041                                     Bicol Region  "
      ]
     },
     "execution_count": 19,
     "metadata": {},
     "output_type": "execute_result"
    }
   ],
   "source": [
    "import importlib\n",
    "import PhilEventFind\n",
    "importlib.reload(PhilEventFind)\n",
    "from PhilEventFind import *"
   ]
  },
  {
   "cell_type": "code",
   "execution_count": 23,
   "metadata": {
    "scrolled": true
   },
   "outputs": [
    {
     "name": "stdout",
     "output_type": "stream",
     "text": [
      "Enter the number of the filters up to 4: 1\n",
      "There are  21  entries in the list.\n",
      "1: event_type                 6: assoc_actor_2              11: Region                    16: longitude\n",
      "2: sub_event_type             7: comp_act1                  12: Province                  17: geo_precision\n",
      "3: actor1                     8: comp_assoc_act1            13: Municipality              18: source\n",
      "4: assoc_actor_1              9: comp_act2                  14: Baranggay                 19: source_scale\n",
      "5: actor2                     10: comp_assoc_act2           15: latitude                  20: fatalities\n",
      "21: notes                     \n",
      "\n",
      "Enter the number of the column to filter on: 1\n",
      "\n",
      "There are  6  entries in the list.\n",
      "1: Battles                                             4: Riots\n",
      "2: Explosions/Remote violence                          5: Strategic developments\n",
      "3: Protests                                            6: Violence against civilians\n",
      "\n",
      "Enter the number of the item to filter on: 1\n",
      "There are  21  entries in the list.\n",
      "1: event_type                 6: assoc_actor_2              11: Region                    16: longitude\n",
      "2: sub_event_type             7: comp_act1                  12: Province                  17: geo_precision\n",
      "3: actor1                     8: comp_assoc_act1            13: Municipality              18: source\n",
      "4: assoc_actor_1              9: comp_act2                  14: Baranggay                 19: source_scale\n",
      "5: actor2                     10: comp_assoc_act2           15: latitude                  20: fatalities\n",
      "21: notes                     \n",
      "\n",
      "Choose 1 more column to include in the summary display.\n",
      "Enter the number of the column to include: 2\n",
      "\n",
      "Enter year and month of beginning month of the study in YYYY-MM format: 2016-01\n",
      "Enter year and month of final month in YYYY-MM format: 2016-03\n",
      "\n",
      "The following summary used these filters: \n",
      "Filter 1: event_type: Battles\n",
      "\n",
      "          Num_of sub_event_type  Num_events_tot\n",
      "Month                                          \n",
      "Jan-2016                     24              24\n",
      "Feb-2016                     57              57\n",
      "Mar-2016                     29              29\n",
      "\n",
      "These are the variety of hits over the entire period for the Number of sub_event_type:\n",
      "There are  2  entries in the list.\n",
      "1: Armed clash                     2: Government regains territory    \n"
     ]
    }
   ],
   "source": [
    "        \n",
    "mult4_filt(df)"
   ]
  }
 ],
 "metadata": {
  "kernelspec": {
   "display_name": "Python 3",
   "language": "python",
   "name": "python3"
  },
  "language_info": {
   "codemirror_mode": {
    "name": "ipython",
    "version": 3
   },
   "file_extension": ".py",
   "mimetype": "text/x-python",
   "name": "python",
   "nbconvert_exporter": "python",
   "pygments_lexer": "ipython3",
   "version": "3.8.6"
  }
 },
 "nbformat": 4,
 "nbformat_minor": 4
}
